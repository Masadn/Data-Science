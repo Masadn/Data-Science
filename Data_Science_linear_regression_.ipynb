{
  "nbformat": 4,
  "nbformat_minor": 0,
  "metadata": {
    "colab": {
      "name": "Data Science linear regression .ipynb",
      "provenance": [],
      "toc_visible": true,
      "authorship_tag": "ABX9TyN/mk4t1iDCN3p1doeeYLPa",
      "include_colab_link": true
    },
    "kernelspec": {
      "name": "python3",
      "display_name": "Python 3"
    }
  },
  "cells": [
    {
      "cell_type": "markdown",
      "metadata": {
        "id": "view-in-github",
        "colab_type": "text"
      },
      "source": [
        "<a href=\"https://colab.research.google.com/github/Masadn/Data-Science/blob/main/Data_Science_linear_regression_.ipynb\" target=\"_parent\"><img src=\"https://colab.research.google.com/assets/colab-badge.svg\" alt=\"Open In Colab\"/></a>"
      ]
    },
    {
      "cell_type": "code",
      "metadata": {
        "colab": {
          "base_uri": "https://localhost:8080/"
        },
        "id": "MFqq_268ZoLC",
        "outputId": "d7fd4c78-494e-4808-a1ac-f62247e20bc9"
      },
      "source": [
        "from google.colab import drive\r\n",
        "drive.mount('/content/drive')"
      ],
      "execution_count": 1,
      "outputs": [
        {
          "output_type": "stream",
          "text": [
            "Mounted at /content/drive\n"
          ],
          "name": "stdout"
        }
      ]
    },
    {
      "cell_type": "code",
      "metadata": {
        "id": "H9oj4ZyRYRdI"
      },
      "source": [
        "import pandas as pd\r\n",
        "import numpy as np\r\n",
        "import matplotlib.pyplot as plt\r\n",
        "from sklearn.model_selection import train_test_split\r\n",
        "from sklearn.linear_model import LinearRegression \r\n",
        "from sklearn import metrics"
      ],
      "execution_count": 3,
      "outputs": []
    },
    {
      "cell_type": "markdown",
      "metadata": {
        "id": "gHWdKOUL3JdJ"
      },
      "source": [
        "#Simple Linear Regression\r\n",
        "We will predict the percentage of marks that a student is expected to score based upon the number of hours they studied. This is a simple linear regression task as it involves just two variables."
      ]
    },
    {
      "cell_type": "code",
      "metadata": {
        "colab": {
          "base_uri": "https://localhost:8080/",
          "height": 215
        },
        "id": "iPQaRet_ZQNJ",
        "outputId": "f16b4d73-221d-4d93-f278-3b6f699a537b"
      },
      "source": [
        "# Read Data From the give dataset\r\n",
        "url= \"drive/My Drive/Python For Data Science /dataset/student_scores.csv\"\r\n",
        "data=pd.read_csv(url)\r\n",
        "print(\"Data Load Successfully!\")\r\n",
        "data.head()\r\n"
      ],
      "execution_count": 4,
      "outputs": [
        {
          "output_type": "stream",
          "text": [
            "Data Load Successfully!\n"
          ],
          "name": "stdout"
        },
        {
          "output_type": "execute_result",
          "data": {
            "text/html": [
              "<div>\n",
              "<style scoped>\n",
              "    .dataframe tbody tr th:only-of-type {\n",
              "        vertical-align: middle;\n",
              "    }\n",
              "\n",
              "    .dataframe tbody tr th {\n",
              "        vertical-align: top;\n",
              "    }\n",
              "\n",
              "    .dataframe thead th {\n",
              "        text-align: right;\n",
              "    }\n",
              "</style>\n",
              "<table border=\"1\" class=\"dataframe\">\n",
              "  <thead>\n",
              "    <tr style=\"text-align: right;\">\n",
              "      <th></th>\n",
              "      <th>Hours</th>\n",
              "      <th>Scores</th>\n",
              "    </tr>\n",
              "  </thead>\n",
              "  <tbody>\n",
              "    <tr>\n",
              "      <th>0</th>\n",
              "      <td>2.5</td>\n",
              "      <td>21</td>\n",
              "    </tr>\n",
              "    <tr>\n",
              "      <th>1</th>\n",
              "      <td>5.1</td>\n",
              "      <td>47</td>\n",
              "    </tr>\n",
              "    <tr>\n",
              "      <th>2</th>\n",
              "      <td>3.2</td>\n",
              "      <td>27</td>\n",
              "    </tr>\n",
              "    <tr>\n",
              "      <th>3</th>\n",
              "      <td>8.5</td>\n",
              "      <td>75</td>\n",
              "    </tr>\n",
              "    <tr>\n",
              "      <th>4</th>\n",
              "      <td>3.5</td>\n",
              "      <td>30</td>\n",
              "    </tr>\n",
              "  </tbody>\n",
              "</table>\n",
              "</div>"
            ],
            "text/plain": [
              "   Hours  Scores\n",
              "0    2.5      21\n",
              "1    5.1      47\n",
              "2    3.2      27\n",
              "3    8.5      75\n",
              "4    3.5      30"
            ]
          },
          "metadata": {
            "tags": []
          },
          "execution_count": 4
        }
      ]
    },
    {
      "cell_type": "code",
      "metadata": {
        "colab": {
          "base_uri": "https://localhost:8080/",
          "height": 287
        },
        "id": "BPl3n-oIZxIa",
        "outputId": "252de551-3a6f-4e9c-a61c-c2934492a52f"
      },
      "source": [
        "data.describe()"
      ],
      "execution_count": 5,
      "outputs": [
        {
          "output_type": "execute_result",
          "data": {
            "text/html": [
              "<div>\n",
              "<style scoped>\n",
              "    .dataframe tbody tr th:only-of-type {\n",
              "        vertical-align: middle;\n",
              "    }\n",
              "\n",
              "    .dataframe tbody tr th {\n",
              "        vertical-align: top;\n",
              "    }\n",
              "\n",
              "    .dataframe thead th {\n",
              "        text-align: right;\n",
              "    }\n",
              "</style>\n",
              "<table border=\"1\" class=\"dataframe\">\n",
              "  <thead>\n",
              "    <tr style=\"text-align: right;\">\n",
              "      <th></th>\n",
              "      <th>Hours</th>\n",
              "      <th>Scores</th>\n",
              "    </tr>\n",
              "  </thead>\n",
              "  <tbody>\n",
              "    <tr>\n",
              "      <th>count</th>\n",
              "      <td>25.000000</td>\n",
              "      <td>25.000000</td>\n",
              "    </tr>\n",
              "    <tr>\n",
              "      <th>mean</th>\n",
              "      <td>5.012000</td>\n",
              "      <td>51.480000</td>\n",
              "    </tr>\n",
              "    <tr>\n",
              "      <th>std</th>\n",
              "      <td>2.525094</td>\n",
              "      <td>25.286887</td>\n",
              "    </tr>\n",
              "    <tr>\n",
              "      <th>min</th>\n",
              "      <td>1.100000</td>\n",
              "      <td>17.000000</td>\n",
              "    </tr>\n",
              "    <tr>\n",
              "      <th>25%</th>\n",
              "      <td>2.700000</td>\n",
              "      <td>30.000000</td>\n",
              "    </tr>\n",
              "    <tr>\n",
              "      <th>50%</th>\n",
              "      <td>4.800000</td>\n",
              "      <td>47.000000</td>\n",
              "    </tr>\n",
              "    <tr>\n",
              "      <th>75%</th>\n",
              "      <td>7.400000</td>\n",
              "      <td>75.000000</td>\n",
              "    </tr>\n",
              "    <tr>\n",
              "      <th>max</th>\n",
              "      <td>9.200000</td>\n",
              "      <td>95.000000</td>\n",
              "    </tr>\n",
              "  </tbody>\n",
              "</table>\n",
              "</div>"
            ],
            "text/plain": [
              "           Hours     Scores\n",
              "count  25.000000  25.000000\n",
              "mean    5.012000  51.480000\n",
              "std     2.525094  25.286887\n",
              "min     1.100000  17.000000\n",
              "25%     2.700000  30.000000\n",
              "50%     4.800000  47.000000\n",
              "75%     7.400000  75.000000\n",
              "max     9.200000  95.000000"
            ]
          },
          "metadata": {
            "tags": []
          },
          "execution_count": 5
        }
      ]
    },
    {
      "cell_type": "code",
      "metadata": {
        "colab": {
          "base_uri": "https://localhost:8080/"
        },
        "id": "sVk5hyriaWxB",
        "outputId": "974362a8-d1a0-40b6-8e44-a1d9492e77b0"
      },
      "source": [
        "data.info()"
      ],
      "execution_count": 6,
      "outputs": [
        {
          "output_type": "stream",
          "text": [
            "<class 'pandas.core.frame.DataFrame'>\n",
            "RangeIndex: 25 entries, 0 to 24\n",
            "Data columns (total 2 columns):\n",
            " #   Column  Non-Null Count  Dtype  \n",
            "---  ------  --------------  -----  \n",
            " 0   Hours   25 non-null     float64\n",
            " 1   Scores  25 non-null     int64  \n",
            "dtypes: float64(1), int64(1)\n",
            "memory usage: 528.0 bytes\n"
          ],
          "name": "stdout"
        }
      ]
    },
    {
      "cell_type": "code",
      "metadata": {
        "colab": {
          "base_uri": "https://localhost:8080/"
        },
        "id": "Qv8_8qKeaZJf",
        "outputId": "14f9ecde-156c-4999-b09e-f9c66486bc5c"
      },
      "source": [
        "data.shape"
      ],
      "execution_count": 7,
      "outputs": [
        {
          "output_type": "execute_result",
          "data": {
            "text/plain": [
              "(25, 2)"
            ]
          },
          "metadata": {
            "tags": []
          },
          "execution_count": 7
        }
      ]
    },
    {
      "cell_type": "code",
      "metadata": {
        "colab": {
          "base_uri": "https://localhost:8080/"
        },
        "id": "Q_khc6x7adqj",
        "outputId": "8f9c5435-75e8-41d8-cbcf-68282613833e"
      },
      "source": [
        "data.isnull().sum()"
      ],
      "execution_count": 8,
      "outputs": [
        {
          "output_type": "execute_result",
          "data": {
            "text/plain": [
              "Hours     0\n",
              "Scores    0\n",
              "dtype: int64"
            ]
          },
          "metadata": {
            "tags": []
          },
          "execution_count": 8
        }
      ]
    },
    {
      "cell_type": "markdown",
      "metadata": {
        "id": "brNGCEeKamRM"
      },
      "source": [
        "# Step 2: Visualising the Data\r\n",
        "\r\n",
        "Let's plot our data on a graph to look closely at the dataset given try to find the relationshio between the data "
      ]
    },
    {
      "cell_type": "code",
      "metadata": {
        "colab": {
          "base_uri": "https://localhost:8080/",
          "height": 278
        },
        "id": "l3aeGgr7ajWp",
        "outputId": "6feee336-cc8a-4f41-ac0b-1322c4a3afb2"
      },
      "source": [
        "#plot of Scores Distribution\r\n",
        "data.plot(x='Hours', y='Scores', style='o')\r\n",
        "plt.show() "
      ],
      "execution_count": 9,
      "outputs": [
        {
          "output_type": "display_data",
          "data": {
            "image/png": "[encoded data removed]",
            "text/plain": [
              "<Figure size 432x288 with 1 Axes>"
            ]
          },
          "metadata": {
            "tags": [],
            "needs_background": "light"
          }
        }
      ]
    },
    {
      "cell_type": "code",
      "metadata": {
        "colab": {
          "base_uri": "https://localhost:8080/",
          "height": 294
        },
        "id": "D5Ve72AReCIA",
        "outputId": "f5285b4b-8f23-40e0-9e3d-d0a456bc0ef0"
      },
      "source": [
        "Hours=data[['Hours']]\r\n",
        "Scores=data['Scores']\r\n",
        "plt.scatter(Hours,Scores,c='red')\r\n",
        "plt.title(\"Hours cv Percentage Score\")\r\n",
        "plt.xlabel(\"Hours Studied\")\r\n",
        "plt.ylabel(\"Percentage Score\")\r\n",
        "plt.show()"
      ],
      "execution_count": 10,
      "outputs": [
        {
          "output_type": "display_data",
          "data": {
            "image/png": "[encoded data removed]",
            "text/plain": [
              "<Figure size 432x288 with 1 Axes>"
            ]
          },
          "metadata": {
            "tags": [],
            "needs_background": "light"
          }
        }
      ]
    },
    {
      "cell_type": "markdown",
      "metadata": {
        "id": "zL-_C4hAfecZ"
      },
      "source": [
        "Inference: From the above graph, we can infer that there is apostive linear relation between the number of study and Percentage Score"
      ]
    },
    {
      "cell_type": "markdown",
      "metadata": {
        "id": "D38n6XpjgG_B"
      },
      "source": [
        "# Step 3: Data Perprocessing \r\n",
        "in first assign the feature variable, Hours, in this case, to the variable  X and the responce variable, Score, to the variable y. the next step is to divide the data into \"attributes (input) and \"labes\"(outputs)."
      ]
    },
    {
      "cell_type": "code",
      "metadata": {
        "id": "ZmGepHESeyYF"
      },
      "source": [
        "Hours=data[['Hours']]\r\n",
        "Scores=data['Scores']"
      ],
      "execution_count": 12,
      "outputs": []
    },
    {
      "cell_type": "code",
      "metadata": {
        "colab": {
          "base_uri": "https://localhost:8080/"
        },
        "id": "nOt8gj9ng3r8",
        "outputId": "a7949dab-92aa-498b-fd68-7119922971ab"
      },
      "source": [
        "#X_train, X_test , Y_train, y_test =train_test_split(Hours,Scores,test_size=0.2,random_state=0)\r\n",
        "X_train, X_test , Y_train, y_test =train_test_split(Hours,Scores,test_size=0.2,random_state=0)\r\n",
        "\r\n",
        "regressor=LinearRegression()\r\n",
        "regressor.fit(X_train,Y_train)"
      ],
      "execution_count": 13,
      "outputs": [
        {
          "output_type": "execute_result",
          "data": {
            "text/plain": [
              "LinearRegression(copy_X=True, fit_intercept=True, n_jobs=None, normalize=False)"
            ]
          },
          "metadata": {
            "tags": []
          },
          "execution_count": 13
        }
      ]
    },
    {
      "cell_type": "code",
      "metadata": {
        "colab": {
          "base_uri": "https://localhost:8080/"
        },
        "id": "QgMhBVLlg9f8",
        "outputId": "7fea05dc-9ed2-4f6e-ff0b-e8f7ea4a9851"
      },
      "source": [
        "print(regressor.intercept_)"
      ],
      "execution_count": 14,
      "outputs": [
        {
          "output_type": "stream",
          "text": [
            "2.018160041434662\n"
          ],
          "name": "stdout"
        }
      ]
    },
    {
      "cell_type": "code",
      "metadata": {
        "colab": {
          "base_uri": "https://localhost:8080/"
        },
        "id": "eiD8r2E4i7qO",
        "outputId": "cef7949b-1780-466a-8f16-0cdf8046d98b"
      },
      "source": [
        "print(regressor.coef_)"
      ],
      "execution_count": 15,
      "outputs": [
        {
          "output_type": "stream",
          "text": [
            "[9.91065648]\n"
          ],
          "name": "stdout"
        }
      ]
    },
    {
      "cell_type": "code",
      "metadata": {
        "colab": {
          "base_uri": "https://localhost:8080/",
          "height": 264
        },
        "id": "KhaiDkeNjFje",
        "outputId": "61d46bf1-64fa-4a00-e216-0d051368889a"
      },
      "source": [
        "line=regressor.coef_ *Hours+regressor.intercept_\r\n",
        "plt.scatter(Hours,Scores)\r\n",
        "plt.plot(x,line,color='black')\r\n",
        "plt.show()"
      ],
      "execution_count": 16,
      "outputs": [
        {
          "output_type": "display_data",
          "data": {
            "image/png": "[encoded data removed]",
            "text/plain": [
              "<Figure size 432x288 with 1 Axes>"
            ]
          },
          "metadata": {
            "tags": [],
            "needs_background": "light"
          }
        }
      ]
    },
    {
      "cell_type": "code",
      "metadata": {
        "colab": {
          "base_uri": "https://localhost:8080/"
        },
        "id": "G6aolhTfjgKf",
        "outputId": "fdf027a6-0b03-47eb-f8db-bde23e3b4471"
      },
      "source": [
        "print(X_test)\r\n",
        "y_pred =regressor.predict(X_test)\r\n",
        "y_pred"
      ],
      "execution_count": 17,
      "outputs": [
        {
          "output_type": "stream",
          "text": [
            "    Hours\n",
            "5     1.5\n",
            "2     3.2\n",
            "19    7.4\n",
            "16    2.5\n",
            "11    5.9\n"
          ],
          "name": "stdout"
        },
        {
          "output_type": "execute_result",
          "data": {
            "text/plain": [
              "array([16.88414476, 33.73226078, 75.357018  , 26.79480124, 60.49103328])"
            ]
          },
          "metadata": {
            "tags": []
          },
          "execution_count": 17
        }
      ]
    },
    {
      "cell_type": "code",
      "metadata": {
        "colab": {
          "base_uri": "https://localhost:8080/"
        },
        "id": "od0cUeqI5pz7",
        "outputId": "08823495-f492-4d46-edf2-69cc3cc1304e"
      },
      "source": [
        "y_test"
      ],
      "execution_count": 18,
      "outputs": [
        {
          "output_type": "execute_result",
          "data": {
            "text/plain": [
              "5     20\n",
              "2     27\n",
              "19    69\n",
              "16    30\n",
              "11    62\n",
              "Name: Scores, dtype: int64"
            ]
          },
          "metadata": {
            "tags": []
          },
          "execution_count": 18
        }
      ]
    },
    {
      "cell_type": "code",
      "metadata": {
        "colab": {
          "base_uri": "https://localhost:8080/",
          "height": 197
        },
        "id": "8yxsR3dGkm_9",
        "outputId": "e5ac24d6-51ad-4181-a980-3339b91cca47"
      },
      "source": [
        "df=pd.DataFrame({\"Actual\" :y_test,\"Predicted\":y_pred})\r\n",
        "df"
      ],
      "execution_count": 19,
      "outputs": [
        {
          "output_type": "execute_result",
          "data": {
            "text/html": [
              "<div>\n",
              "<style scoped>\n",
              "    .dataframe tbody tr th:only-of-type {\n",
              "        vertical-align: middle;\n",
              "    }\n",
              "\n",
              "    .dataframe tbody tr th {\n",
              "        vertical-align: top;\n",
              "    }\n",
              "\n",
              "    .dataframe thead th {\n",
              "        text-align: right;\n",
              "    }\n",
              "</style>\n",
              "<table border=\"1\" class=\"dataframe\">\n",
              "  <thead>\n",
              "    <tr style=\"text-align: right;\">\n",
              "      <th></th>\n",
              "      <th>Actual</th>\n",
              "      <th>Predicted</th>\n",
              "    </tr>\n",
              "  </thead>\n",
              "  <tbody>\n",
              "    <tr>\n",
              "      <th>5</th>\n",
              "      <td>20</td>\n",
              "      <td>16.884145</td>\n",
              "    </tr>\n",
              "    <tr>\n",
              "      <th>2</th>\n",
              "      <td>27</td>\n",
              "      <td>33.732261</td>\n",
              "    </tr>\n",
              "    <tr>\n",
              "      <th>19</th>\n",
              "      <td>69</td>\n",
              "      <td>75.357018</td>\n",
              "    </tr>\n",
              "    <tr>\n",
              "      <th>16</th>\n",
              "      <td>30</td>\n",
              "      <td>26.794801</td>\n",
              "    </tr>\n",
              "    <tr>\n",
              "      <th>11</th>\n",
              "      <td>62</td>\n",
              "      <td>60.491033</td>\n",
              "    </tr>\n",
              "  </tbody>\n",
              "</table>\n",
              "</div>"
            ],
            "text/plain": [
              "    Actual  Predicted\n",
              "5       20  16.884145\n",
              "2       27  33.732261\n",
              "19      69  75.357018\n",
              "16      30  26.794801\n",
              "11      62  60.491033"
            ]
          },
          "metadata": {
            "tags": []
          },
          "execution_count": 19
        }
      ]
    },
    {
      "cell_type": "code",
      "metadata": {
        "colab": {
          "base_uri": "https://localhost:8080/"
        },
        "id": "mAlvV3DXlL4I",
        "outputId": "a75e6610-e69e-4cbf-b596-7cc89c1b6398"
      },
      "source": [
        "\r\n",
        "print(\"Training Score: \" , regressor.score(X_train,Y_train))\r\n",
        "print(\"Test Score : \" , regressor.score(X_test,y_test))"
      ],
      "execution_count": 20,
      "outputs": [
        {
          "output_type": "stream",
          "text": [
            "Training Score:  0.9515510725211553\n",
            "Test Score :  0.9454906892105354\n"
          ],
          "name": "stdout"
        }
      ]
    },
    {
      "cell_type": "code",
      "metadata": {
        "colab": {
          "base_uri": "https://localhost:8080/",
          "height": 322
        },
        "id": "97TVS76UmCab",
        "outputId": "82df8045-e358-4c0a-81c5-da59db577844"
      },
      "source": [
        "df.plot(kind='bar', figsize=(5,5))\r\n",
        "plt.grid(linewidth = '0.5',color='blue')\r\n",
        "#plt.grid(linewidth ='0.5',)\r\n"
      ],
      "execution_count": 22,
      "outputs": [
        {
          "output_type": "display_data",
          "data": {
            "image/png": "[encoded data removed]",
            "text/plain": [
              "<Figure size 360x360 with 1 Axes>"
            ]
          },
          "metadata": {
            "tags": [],
            "needs_background": "light"
          }
        }
      ]
    },
    {
      "cell_type": "code",
      "metadata": {
        "colab": {
          "base_uri": "https://localhost:8080/"
        },
        "id": "ufJQUUEinIYz",
        "outputId": "53cccf5a-2eaf-4294-dd47-4e8c623d4b28"
      },
      "source": [
        "HoursValue =10.25\r\n",
        "test=np.array([HoursValue]).reshape(-1,1)\r\n",
        "test"
      ],
      "execution_count": 23,
      "outputs": [
        {
          "output_type": "execute_result",
          "data": {
            "text/plain": [
              "array([[10.25]])"
            ]
          },
          "metadata": {
            "tags": []
          },
          "execution_count": 23
        }
      ]
    },
    {
      "cell_type": "code",
      "metadata": {
        "colab": {
          "base_uri": "https://localhost:8080/"
        },
        "id": "25nTsEIduI7H",
        "outputId": "0c592001-1902-4107-ea6a-c55a8aade61f"
      },
      "source": [
        "prediction = regressor.predict(test)\r\n",
        "prediction\r\n",
        "print(\"Number Of Houres = {}\".format(HoursValue))\r\n",
        "print(\"Number Of Score = {}\".format(prediction[0]))"
      ],
      "execution_count": 24,
      "outputs": [
        {
          "output_type": "stream",
          "text": [
            "Number Of Houres = 10.25\n",
            "Number Of Score = 103.60238896801764\n"
          ],
          "name": "stdout"
        }
      ]
    },
    {
      "cell_type": "code",
      "metadata": {
        "colab": {
          "base_uri": "https://localhost:8080/"
        },
        "id": "J177LmkNuX7c",
        "outputId": "b71d9faf-7add-4c6e-ce4b-48f5b931626d"
      },
      "source": [
        "from sklearn.metrics import mean_absolute_error, mean_squared_error,r2_score\r\n",
        "print(\"Mean Absolute Error:\", mean_absolute_error(y_test,y_pred))\r\n",
        "print(\"Mean Squared Error:\", mean_squared_error(y_test,y_pred))\r\n",
        "print(\"R2 Score:\",r2_score(y_test,y_pred))"
      ],
      "execution_count": 25,
      "outputs": [
        {
          "output_type": "stream",
          "text": [
            "Mean Absolute Error: 4.183859899002982\n",
            "Mean Squared Error: 21.598769307217456\n",
            "R2 Score: 0.9454906892105354\n"
          ],
          "name": "stdout"
        }
      ]
    },
    {
      "cell_type": "markdown",
      "metadata": {
        "id": "AS2jLQGW26aT"
      },
      "source": [
        "# Multiple Linear Regression\r\n",
        "In the previous section we performed linear regression involving two variables. Almost all real world problems that you are going to encounter will have more than two variables. Linear regression involving multiple variables is called \"multiple linear regression\". The steps to perform multiple linear regression are almost similar to that of simple linear regression. The difference lies in the evaluation. You can use it to find out which factor has the highest impact on the predicted output and how different variables relate to each other.\r\n",
        "\r\n",
        "In this section we will use multiple linear regression to predict the gas consumptions (in millions of gallons) in 48 US states based upon gas taxes (in cents), per capita income (dollars), paved highways (in miles) and the proportion of population that has a drivers license."
      ]
    },
    {
      "cell_type": "code",
      "metadata": {
        "colab": {
          "base_uri": "https://localhost:8080/"
        },
        "id": "MChUcZwGwnmb",
        "outputId": "3339ce42-d138-4edd-9624-36faaf8ccdaf"
      },
      "source": [
        " # Read Data From the give dataset\r\n",
        "url= \"drive/My Drive/Python For Data Science /dataset/petrol_consumption.csv\"\r\n",
        "data=pd.read_csv(url)\r\n",
        "print(\"Data Load Successfully!\")\r\n",
        "data\r\n",
        "url1='drive/MyDrive/Python For Data Science /dataset/testData.csv'\r\n",
        "data1=pd.read_csv(url1)"
      ],
      "execution_count": 26,
      "outputs": [
        {
          "output_type": "stream",
          "text": [
            "Data Load Successfully!\n"
          ],
          "name": "stdout"
        }
      ]
    },
    {
      "cell_type": "code",
      "metadata": {
        "colab": {
          "base_uri": "https://localhost:8080/",
          "height": 287
        },
        "id": "2FUkZOX92LTu",
        "outputId": "8e377988-2f0e-4539-d958-96ad445ad16a"
      },
      "source": [
        "data.describe()"
      ],
      "execution_count": 27,
      "outputs": [
        {
          "output_type": "execute_result",
          "data": {
            "text/html": [
              "<div>\n",
              "<style scoped>\n",
              "    .dataframe tbody tr th:only-of-type {\n",
              "        vertical-align: middle;\n",
              "    }\n",
              "\n",
              "    .dataframe tbody tr th {\n",
              "        vertical-align: top;\n",
              "    }\n",
              "\n",
              "    .dataframe thead th {\n",
              "        text-align: right;\n",
              "    }\n",
              "</style>\n",
              "<table border=\"1\" class=\"dataframe\">\n",
              "  <thead>\n",
              "    <tr style=\"text-align: right;\">\n",
              "      <th></th>\n",
              "      <th>Petrol_tax</th>\n",
              "      <th>Average_income</th>\n",
              "      <th>Paved_Highways</th>\n",
              "      <th>Population_Driver_licence(%)</th>\n",
              "      <th>Petrol_Consumption</th>\n",
              "    </tr>\n",
              "  </thead>\n",
              "  <tbody>\n",
              "    <tr>\n",
              "      <th>count</th>\n",
              "      <td>48.000000</td>\n",
              "      <td>48.000000</td>\n",
              "      <td>48.000000</td>\n",
              "      <td>48.000000</td>\n",
              "      <td>48.000000</td>\n",
              "    </tr>\n",
              "    <tr>\n",
              "      <th>mean</th>\n",
              "      <td>7.668333</td>\n",
              "      <td>4241.833333</td>\n",
              "      <td>5565.416667</td>\n",
              "      <td>0.570333</td>\n",
              "      <td>576.770833</td>\n",
              "    </tr>\n",
              "    <tr>\n",
              "      <th>std</th>\n",
              "      <td>0.950770</td>\n",
              "      <td>573.623768</td>\n",
              "      <td>3491.507166</td>\n",
              "      <td>0.055470</td>\n",
              "      <td>111.885816</td>\n",
              "    </tr>\n",
              "    <tr>\n",
              "      <th>min</th>\n",
              "      <td>5.000000</td>\n",
              "      <td>3063.000000</td>\n",
              "      <td>431.000000</td>\n",
              "      <td>0.451000</td>\n",
              "      <td>344.000000</td>\n",
              "    </tr>\n",
              "    <tr>\n",
              "      <th>25%</th>\n",
              "      <td>7.000000</td>\n",
              "      <td>3739.000000</td>\n",
              "      <td>3110.250000</td>\n",
              "      <td>0.529750</td>\n",
              "      <td>509.500000</td>\n",
              "    </tr>\n",
              "    <tr>\n",
              "      <th>50%</th>\n",
              "      <td>7.500000</td>\n",
              "      <td>4298.000000</td>\n",
              "      <td>4735.500000</td>\n",
              "      <td>0.564500</td>\n",
              "      <td>568.500000</td>\n",
              "    </tr>\n",
              "    <tr>\n",
              "      <th>75%</th>\n",
              "      <td>8.125000</td>\n",
              "      <td>4578.750000</td>\n",
              "      <td>7156.000000</td>\n",
              "      <td>0.595250</td>\n",
              "      <td>632.750000</td>\n",
              "    </tr>\n",
              "    <tr>\n",
              "      <th>max</th>\n",
              "      <td>10.000000</td>\n",
              "      <td>5342.000000</td>\n",
              "      <td>17782.000000</td>\n",
              "      <td>0.724000</td>\n",
              "      <td>968.000000</td>\n",
              "    </tr>\n",
              "  </tbody>\n",
              "</table>\n",
              "</div>"
            ],
            "text/plain": [
              "       Petrol_tax  ...  Petrol_Consumption\n",
              "count   48.000000  ...           48.000000\n",
              "mean     7.668333  ...          576.770833\n",
              "std      0.950770  ...          111.885816\n",
              "min      5.000000  ...          344.000000\n",
              "25%      7.000000  ...          509.500000\n",
              "50%      7.500000  ...          568.500000\n",
              "75%      8.125000  ...          632.750000\n",
              "max     10.000000  ...          968.000000\n",
              "\n",
              "[8 rows x 5 columns]"
            ]
          },
          "metadata": {
            "tags": []
          },
          "execution_count": 27
        }
      ]
    },
    {
      "cell_type": "markdown",
      "metadata": {
        "id": "gIuRKKCe23aS"
      },
      "source": [
        "# Preparing the Data"
      ]
    },
    {
      "cell_type": "code",
      "metadata": {
        "id": "oWGcAy2z2Sc1"
      },
      "source": [
        "X = data[['Petrol_tax', 'Average_income', 'Paved_Highways',\r\n",
        "       'Population_Driver_licence(%)']]\r\n",
        "y = data['Petrol_Consumption']"
      ],
      "execution_count": 28,
      "outputs": []
    },
    {
      "cell_type": "markdown",
      "metadata": {
        "id": "Ed42Adka2uAn"
      },
      "source": [
        "# Split Data into Test and Train"
      ]
    },
    {
      "cell_type": "code",
      "metadata": {
        "id": "Y0zPp5TJ2t2X"
      },
      "source": [
        "from sklearn.model_selection import train_test_split\r\n",
        "X_train, X_test, y_train, y_test = train_test_split(X, y, test_size=0.2, random_state=0)"
      ],
      "execution_count": 29,
      "outputs": []
    },
    {
      "cell_type": "markdown",
      "metadata": {
        "id": "M2OPLx3s2r9j"
      },
      "source": [
        "# Training the Algorithm"
      ]
    },
    {
      "cell_type": "code",
      "metadata": {
        "colab": {
          "base_uri": "https://localhost:8080/"
        },
        "id": "ymPNKs3820aF",
        "outputId": "c35accac-9642-43cf-8343-671301d14c34"
      },
      "source": [
        "from sklearn.linear_model import LinearRegression\r\n",
        "regressor = LinearRegression()\r\n",
        "regressor.fit(X_train, y_train)"
      ],
      "execution_count": 30,
      "outputs": [
        {
          "output_type": "execute_result",
          "data": {
            "text/plain": [
              "LinearRegression(copy_X=True, fit_intercept=True, n_jobs=None, normalize=False)"
            ]
          },
          "metadata": {
            "tags": []
          },
          "execution_count": 30
        }
      ]
    },
    {
      "cell_type": "markdown",
      "metadata": {
        "id": "uGJuXwZG2d2n"
      },
      "source": [
        "# Making Predictions"
      ]
    },
    {
      "cell_type": "code",
      "metadata": {
        "id": "y5q5zxSE24d3"
      },
      "source": [
        "y_pred = regressor.predict(X_test)"
      ],
      "execution_count": 31,
      "outputs": []
    },
    {
      "cell_type": "code",
      "metadata": {
        "colab": {
          "base_uri": "https://localhost:8080/",
          "height": 347
        },
        "id": "28u_Z5VIfKkk",
        "outputId": "629794dc-5de6-4b13-b737-f18f360e62cf"
      },
      "source": [
        "X_test"
      ],
      "execution_count": 32,
      "outputs": [
        {
          "output_type": "execute_result",
          "data": {
            "text/html": [
              "<div>\n",
              "<style scoped>\n",
              "    .dataframe tbody tr th:only-of-type {\n",
              "        vertical-align: middle;\n",
              "    }\n",
              "\n",
              "    .dataframe tbody tr th {\n",
              "        vertical-align: top;\n",
              "    }\n",
              "\n",
              "    .dataframe thead th {\n",
              "        text-align: right;\n",
              "    }\n",
              "</style>\n",
              "<table border=\"1\" class=\"dataframe\">\n",
              "  <thead>\n",
              "    <tr style=\"text-align: right;\">\n",
              "      <th></th>\n",
              "      <th>Petrol_tax</th>\n",
              "      <th>Average_income</th>\n",
              "      <th>Paved_Highways</th>\n",
              "      <th>Population_Driver_licence(%)</th>\n",
              "    </tr>\n",
              "  </thead>\n",
              "  <tbody>\n",
              "    <tr>\n",
              "      <th>29</th>\n",
              "      <td>9.0</td>\n",
              "      <td>3601</td>\n",
              "      <td>4650</td>\n",
              "      <td>0.493</td>\n",
              "    </tr>\n",
              "    <tr>\n",
              "      <th>4</th>\n",
              "      <td>8.0</td>\n",
              "      <td>4399</td>\n",
              "      <td>431</td>\n",
              "      <td>0.544</td>\n",
              "    </tr>\n",
              "    <tr>\n",
              "      <th>26</th>\n",
              "      <td>8.0</td>\n",
              "      <td>3448</td>\n",
              "      <td>5399</td>\n",
              "      <td>0.548</td>\n",
              "    </tr>\n",
              "    <tr>\n",
              "      <th>30</th>\n",
              "      <td>7.0</td>\n",
              "      <td>3640</td>\n",
              "      <td>6905</td>\n",
              "      <td>0.518</td>\n",
              "    </tr>\n",
              "    <tr>\n",
              "      <th>32</th>\n",
              "      <td>8.0</td>\n",
              "      <td>3063</td>\n",
              "      <td>6524</td>\n",
              "      <td>0.578</td>\n",
              "    </tr>\n",
              "    <tr>\n",
              "      <th>37</th>\n",
              "      <td>7.0</td>\n",
              "      <td>3897</td>\n",
              "      <td>6385</td>\n",
              "      <td>0.586</td>\n",
              "    </tr>\n",
              "    <tr>\n",
              "      <th>34</th>\n",
              "      <td>8.0</td>\n",
              "      <td>3528</td>\n",
              "      <td>3495</td>\n",
              "      <td>0.487</td>\n",
              "    </tr>\n",
              "    <tr>\n",
              "      <th>40</th>\n",
              "      <td>7.0</td>\n",
              "      <td>4449</td>\n",
              "      <td>4639</td>\n",
              "      <td>0.626</td>\n",
              "    </tr>\n",
              "    <tr>\n",
              "      <th>7</th>\n",
              "      <td>8.0</td>\n",
              "      <td>5126</td>\n",
              "      <td>2138</td>\n",
              "      <td>0.553</td>\n",
              "    </tr>\n",
              "    <tr>\n",
              "      <th>10</th>\n",
              "      <td>8.0</td>\n",
              "      <td>4391</td>\n",
              "      <td>5939</td>\n",
              "      <td>0.530</td>\n",
              "    </tr>\n",
              "  </tbody>\n",
              "</table>\n",
              "</div>"
            ],
            "text/plain": [
              "    Petrol_tax  Average_income  Paved_Highways  Population_Driver_licence(%)\n",
              "29         9.0            3601            4650                         0.493\n",
              "4          8.0            4399             431                         0.544\n",
              "26         8.0            3448            5399                         0.548\n",
              "30         7.0            3640            6905                         0.518\n",
              "32         8.0            3063            6524                         0.578\n",
              "37         7.0            3897            6385                         0.586\n",
              "34         8.0            3528            3495                         0.487\n",
              "40         7.0            4449            4639                         0.626\n",
              "7          8.0            5126            2138                         0.553\n",
              "10         8.0            4391            5939                         0.530"
            ]
          },
          "metadata": {
            "tags": []
          },
          "execution_count": 32
        }
      ]
    },
    {
      "cell_type": "code",
      "metadata": {
        "colab": {
          "base_uri": "https://localhost:8080/",
          "height": 347
        },
        "id": "lVEr4e1cFk3r",
        "outputId": "72edb046-36ac-4708-956d-fe21f5e56d94"
      },
      "source": [
        "df = pd.DataFrame({'Actual': y_test, 'Predicted': y_pred})\r\n",
        "df\r\n"
      ],
      "execution_count": 33,
      "outputs": [
        {
          "output_type": "execute_result",
          "data": {
            "text/html": [
              "<div>\n",
              "<style scoped>\n",
              "    .dataframe tbody tr th:only-of-type {\n",
              "        vertical-align: middle;\n",
              "    }\n",
              "\n",
              "    .dataframe tbody tr th {\n",
              "        vertical-align: top;\n",
              "    }\n",
              "\n",
              "    .dataframe thead th {\n",
              "        text-align: right;\n",
              "    }\n",
              "</style>\n",
              "<table border=\"1\" class=\"dataframe\">\n",
              "  <thead>\n",
              "    <tr style=\"text-align: right;\">\n",
              "      <th></th>\n",
              "      <th>Actual</th>\n",
              "      <th>Predicted</th>\n",
              "    </tr>\n",
              "  </thead>\n",
              "  <tbody>\n",
              "    <tr>\n",
              "      <th>29</th>\n",
              "      <td>534</td>\n",
              "      <td>469.391989</td>\n",
              "    </tr>\n",
              "    <tr>\n",
              "      <th>4</th>\n",
              "      <td>410</td>\n",
              "      <td>545.645464</td>\n",
              "    </tr>\n",
              "    <tr>\n",
              "      <th>26</th>\n",
              "      <td>577</td>\n",
              "      <td>589.668394</td>\n",
              "    </tr>\n",
              "    <tr>\n",
              "      <th>30</th>\n",
              "      <td>571</td>\n",
              "      <td>569.730413</td>\n",
              "    </tr>\n",
              "    <tr>\n",
              "      <th>32</th>\n",
              "      <td>577</td>\n",
              "      <td>649.774809</td>\n",
              "    </tr>\n",
              "    <tr>\n",
              "      <th>37</th>\n",
              "      <td>704</td>\n",
              "      <td>646.631164</td>\n",
              "    </tr>\n",
              "    <tr>\n",
              "      <th>34</th>\n",
              "      <td>487</td>\n",
              "      <td>511.608148</td>\n",
              "    </tr>\n",
              "    <tr>\n",
              "      <th>40</th>\n",
              "      <td>587</td>\n",
              "      <td>672.475177</td>\n",
              "    </tr>\n",
              "    <tr>\n",
              "      <th>7</th>\n",
              "      <td>467</td>\n",
              "      <td>502.074782</td>\n",
              "    </tr>\n",
              "    <tr>\n",
              "      <th>10</th>\n",
              "      <td>580</td>\n",
              "      <td>501.270734</td>\n",
              "    </tr>\n",
              "  </tbody>\n",
              "</table>\n",
              "</div>"
            ],
            "text/plain": [
              "    Actual   Predicted\n",
              "29     534  469.391989\n",
              "4      410  545.645464\n",
              "26     577  589.668394\n",
              "30     571  569.730413\n",
              "32     577  649.774809\n",
              "37     704  646.631164\n",
              "34     487  511.608148\n",
              "40     587  672.475177\n",
              "7      467  502.074782\n",
              "10     580  501.270734"
            ]
          },
          "metadata": {
            "tags": []
          },
          "execution_count": 33
        }
      ]
    },
    {
      "cell_type": "code",
      "metadata": {
        "id": "XD77yht7dpDt"
      },
      "source": [
        "url1='drive/My Drive/Python For Data Science /dataset/testData.csv'\r\n",
        "data1=pd.read_csv(url1)\r\n",
        "y_pred = regressor.predict(data1)"
      ],
      "execution_count": 38,
      "outputs": []
    },
    {
      "cell_type": "code",
      "metadata": {
        "colab": {
          "base_uri": "https://localhost:8080/"
        },
        "id": "wFPfzc5bdqbp",
        "outputId": "5ebcd85b-3deb-43cc-b05a-09781ff120cb"
      },
      "source": [
        "y_pred"
      ],
      "execution_count": 39,
      "outputs": [
        {
          "output_type": "execute_result",
          "data": {
            "text/plain": [
              "array([526.97067878, 559.39997146, 583.39065738, 505.61428732,\n",
              "       545.64546431, 435.88213397, 306.45286058, 502.07478157,\n",
              "       483.75970694, 550.71922386])"
            ]
          },
          "metadata": {
            "tags": []
          },
          "execution_count": 39
        }
      ]
    },
    {
      "cell_type": "code",
      "metadata": {
        "id": "5gon44sBdycy"
      },
      "source": [
        "data1['Predicted']=y_pred"
      ],
      "execution_count": 40,
      "outputs": []
    },
    {
      "cell_type": "code",
      "metadata": {
        "colab": {
          "base_uri": "https://localhost:8080/",
          "height": 347
        },
        "id": "KIu6isTAjLCh",
        "outputId": "7c53aac3-c2f3-4edd-b307-0a5cb941c145"
      },
      "source": [
        "data1"
      ],
      "execution_count": 41,
      "outputs": [
        {
          "output_type": "execute_result",
          "data": {
            "text/html": [
              "<div>\n",
              "<style scoped>\n",
              "    .dataframe tbody tr th:only-of-type {\n",
              "        vertical-align: middle;\n",
              "    }\n",
              "\n",
              "    .dataframe tbody tr th {\n",
              "        vertical-align: top;\n",
              "    }\n",
              "\n",
              "    .dataframe thead th {\n",
              "        text-align: right;\n",
              "    }\n",
              "</style>\n",
              "<table border=\"1\" class=\"dataframe\">\n",
              "  <thead>\n",
              "    <tr style=\"text-align: right;\">\n",
              "      <th></th>\n",
              "      <th>Petrol_tax</th>\n",
              "      <th>Average_income</th>\n",
              "      <th>Paved_Highways</th>\n",
              "      <th>Population_Driver_licence(%)</th>\n",
              "      <th>Predicted</th>\n",
              "    </tr>\n",
              "  </thead>\n",
              "  <tbody>\n",
              "    <tr>\n",
              "      <th>0</th>\n",
              "      <td>9.0</td>\n",
              "      <td>3571</td>\n",
              "      <td>1976</td>\n",
              "      <td>0.525</td>\n",
              "      <td>526.970679</td>\n",
              "    </tr>\n",
              "    <tr>\n",
              "      <th>1</th>\n",
              "      <td>9.0</td>\n",
              "      <td>4092</td>\n",
              "      <td>1250</td>\n",
              "      <td>0.572</td>\n",
              "      <td>559.399971</td>\n",
              "    </tr>\n",
              "    <tr>\n",
              "      <th>2</th>\n",
              "      <td>9.0</td>\n",
              "      <td>3865</td>\n",
              "      <td>1586</td>\n",
              "      <td>0.580</td>\n",
              "      <td>583.390657</td>\n",
              "    </tr>\n",
              "    <tr>\n",
              "      <th>3</th>\n",
              "      <td>7.5</td>\n",
              "      <td>4870</td>\n",
              "      <td>2351</td>\n",
              "      <td>0.529</td>\n",
              "      <td>505.614287</td>\n",
              "    </tr>\n",
              "    <tr>\n",
              "      <th>4</th>\n",
              "      <td>8.0</td>\n",
              "      <td>4399</td>\n",
              "      <td>431</td>\n",
              "      <td>0.544</td>\n",
              "      <td>545.645464</td>\n",
              "    </tr>\n",
              "    <tr>\n",
              "      <th>5</th>\n",
              "      <td>10.0</td>\n",
              "      <td>5342</td>\n",
              "      <td>1333</td>\n",
              "      <td>0.571</td>\n",
              "      <td>435.882134</td>\n",
              "    </tr>\n",
              "    <tr>\n",
              "      <th>6</th>\n",
              "      <td>8.0</td>\n",
              "      <td>5319</td>\n",
              "      <td>11868</td>\n",
              "      <td>0.451</td>\n",
              "      <td>306.452861</td>\n",
              "    </tr>\n",
              "    <tr>\n",
              "      <th>7</th>\n",
              "      <td>8.0</td>\n",
              "      <td>5126</td>\n",
              "      <td>2138</td>\n",
              "      <td>0.553</td>\n",
              "      <td>502.074782</td>\n",
              "    </tr>\n",
              "    <tr>\n",
              "      <th>8</th>\n",
              "      <td>8.0</td>\n",
              "      <td>4447</td>\n",
              "      <td>8577</td>\n",
              "      <td>0.529</td>\n",
              "      <td>483.759707</td>\n",
              "    </tr>\n",
              "    <tr>\n",
              "      <th>9</th>\n",
              "      <td>7.0</td>\n",
              "      <td>4512</td>\n",
              "      <td>8507</td>\n",
              "      <td>0.552</td>\n",
              "      <td>550.719224</td>\n",
              "    </tr>\n",
              "  </tbody>\n",
              "</table>\n",
              "</div>"
            ],
            "text/plain": [
              "   Petrol_tax  Average_income  ...  Population_Driver_licence(%)   Predicted\n",
              "0         9.0            3571  ...                         0.525  526.970679\n",
              "1         9.0            4092  ...                         0.572  559.399971\n",
              "2         9.0            3865  ...                         0.580  583.390657\n",
              "3         7.5            4870  ...                         0.529  505.614287\n",
              "4         8.0            4399  ...                         0.544  545.645464\n",
              "5        10.0            5342  ...                         0.571  435.882134\n",
              "6         8.0            5319  ...                         0.451  306.452861\n",
              "7         8.0            5126  ...                         0.553  502.074782\n",
              "8         8.0            4447  ...                         0.529  483.759707\n",
              "9         7.0            4512  ...                         0.552  550.719224\n",
              "\n",
              "[10 rows x 5 columns]"
            ]
          },
          "metadata": {
            "tags": []
          },
          "execution_count": 41
        }
      ]
    },
    {
      "cell_type": "markdown",
      "metadata": {
        "id": "NIEZk1Iv2GqK"
      },
      "source": [
        "# Evaluating the Algorithm\r\n",
        "The final step is to evaluate the performance of algorithm. We'll do this by finding the values for MAE, MSE and RMSE. "
      ]
    },
    {
      "cell_type": "code",
      "metadata": {
        "id": "lOxNK1QDjcWN",
        "colab": {
          "base_uri": "https://localhost:8080/"
        },
        "outputId": "6220cfb1-9a89-482d-ea2d-67ab0108ee86"
      },
      "source": [
        "from sklearn import metrics\r\n",
        "print('Mean Absolute Error:', metrics.mean_absolute_error(y_test, y_pred))\r\n",
        "print('Mean Squared Error:', metrics.mean_squared_error(y_test, y_pred))\r\n",
        "print('Root Mean Squared Error:', np.sqrt(metrics.mean_squared_error(y_test, y_pred)))"
      ],
      "execution_count": 42,
      "outputs": [
        {
          "output_type": "stream",
          "text": [
            "Mean Absolute Error: 83.9190905382702\n",
            "Mean Squared Error: 14050.400564929427\n",
            "Root Mean Squared Error: 118.53438558042737\n"
          ],
          "name": "stdout"
        }
      ]
    },
    {
      "cell_type": "code",
      "metadata": {
        "id": "TSnjKUmc2Dm3"
      },
      "source": [
        ""
      ],
      "execution_count": null,
      "outputs": []
    }
  ]
}